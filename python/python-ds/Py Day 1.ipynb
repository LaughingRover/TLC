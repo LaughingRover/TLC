{
 "cells": [
  {
   "cell_type": "code",
   "execution_count": 1,
   "id": "709cc6ad",
   "metadata": {},
   "outputs": [
    {
     "name": "stdout",
     "output_type": "stream",
     "text": [
      "Enter a number: 1\n"
     ]
    }
   ],
   "source": [
    "num = int(input(\"Enter a number: \"))"
   ]
  },
  {
   "cell_type": "code",
   "execution_count": 3,
   "id": "1907f100",
   "metadata": {},
   "outputs": [
    {
     "name": "stdout",
     "output_type": "stream",
     "text": [
      "num is odd\n"
     ]
    }
   ],
   "source": [
    "if num%2 == 0:\n",
    "    print(\"num is even\")\n",
    "else:\n",
    "    print(\"num is odd\")"
   ]
  },
  {
   "cell_type": "code",
   "execution_count": 4,
   "id": "3c0e36f5",
   "metadata": {},
   "outputs": [],
   "source": [
    "name = \"Joseph\"\n",
    "age = 200"
   ]
  },
  {
   "cell_type": "code",
   "execution_count": 5,
   "id": "65524b43",
   "metadata": {},
   "outputs": [
    {
     "name": "stdout",
     "output_type": "stream",
     "text": [
      "Joseph\n",
      "200\n"
     ]
    }
   ],
   "source": [
    "print(name)\n",
    "print(age)"
   ]
  },
  {
   "cell_type": "code",
   "execution_count": 9,
   "id": "8d20e426",
   "metadata": {},
   "outputs": [
    {
     "name": "stdout",
     "output_type": "stream",
     "text": [
      "Joseph is 200 years old\n"
     ]
    }
   ],
   "source": [
    "about = print(name + \" \" + \"is\" + \" \" + str(age) + \" \" + \"years old\")"
   ]
  },
  {
   "cell_type": "code",
   "execution_count": 55,
   "id": "706ec641",
   "metadata": {},
   "outputs": [
    {
     "name": "stdout",
     "output_type": "stream",
     "text": [
      "0.8243798462232592\n",
      "97\n",
      "22\n"
     ]
    }
   ],
   "source": [
    "import random\n",
    "\n",
    "x = random.random()\n",
    "y = random.randint(0, 100)\n",
    "z = random.randrange(0, 100, 2)\n",
    "\n",
    "print(x)\n",
    "print(y)\n",
    "print(z)"
   ]
  },
  {
   "cell_type": "code",
   "execution_count": 50,
   "id": "a655f5cc",
   "metadata": {},
   "outputs": [
    {
     "name": "stdout",
     "output_type": "stream",
     "text": [
      "Guess a random integer between 0 - 100: 2\n"
     ]
    }
   ],
   "source": [
    "i = int(input(\"Guess a random integer between 0 - 100: \"))"
   ]
  },
  {
   "cell_type": "code",
   "execution_count": 61,
   "id": "56f62887",
   "metadata": {},
   "outputs": [
    {
     "name": "stdout",
     "output_type": "stream",
     "text": [
      "[5, 1, 2, 3, 4]\n"
     ]
    }
   ],
   "source": [
    "def rotate_by_one(list1):\n",
    "    list1.insert(0, list1[-1])\n",
    "    list1.pop()\n",
    "    print(list1)\n",
    "    \n",
    "list1 = [1, 2, 3, 4, 5]\n",
    "\n",
    "rotate_by_one(list1)"
   ]
  }
 ],
 "metadata": {
  "kernelspec": {
   "display_name": "Python 3",
   "language": "python",
   "name": "python3"
  },
  "language_info": {
   "codemirror_mode": {
    "name": "ipython",
    "version": 3
   },
   "file_extension": ".py",
   "mimetype": "text/x-python",
   "name": "python",
   "nbconvert_exporter": "python",
   "pygments_lexer": "ipython3",
   "version": "3.8.8"
  }
 },
 "nbformat": 4,
 "nbformat_minor": 5
}
