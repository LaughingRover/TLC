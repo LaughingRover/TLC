{
 "cells": [
  {
   "cell_type": "markdown",
   "id": "2c60482a",
   "metadata": {},
   "source": [
    "Machine Learning Concepts\n",
    "--\n",
    "https://gist.github.com/byelipk/f4f3438ef994ec282f6e9d6581981418#:~:text=What%20is%20the%20most%20common,model%27s%20parameters%2C%20often%20called%20theta%20\n",
    "\n",
    "1. How would you define Machine Learning?\n"
   ]
  },
  {
   "cell_type": "raw",
   "id": "4777b56f",
   "metadata": {},
   "source": [
    "Machine learning is a sub-class of artificial intelligence which aims at using data and algorithms to imitate the way humans learn, it makes use of data science to achieve this."
   ]
  },
  {
   "cell_type": "markdown",
   "id": "99cad30d",
   "metadata": {},
   "source": [
    "2. Can you name four types of problems where it shines?"
   ]
  },
  {
   "cell_type": "raw",
   "id": "c30b040b",
   "metadata": {},
   "source": [
    "a. Classification - e.g Spam mails, handwriting\n",
    "b. Entity identification - e.g diff between bread and dog butt\n",
    "c. Question and answering - e.g Siri, IBM watson\n",
    "d. Predictive analysis - e.g Google search, future sales\n",
    "e. Sentiment analysis - e.g Amazon reviews\n",
    "f. Regression analysis - e.g Best fit from a pool of data"
   ]
  },
  {
   "cell_type": "markdown",
   "id": "28fc810f",
   "metadata": {},
   "source": [
    "3. What is a labeled training set?"
   ]
  },
  {
   "cell_type": "raw",
   "id": "f6daf4a1",
   "metadata": {},
   "source": [
    "A labeled training set takes a contains features which is used to predict a relationship with a label in an existing dataset."
   ]
  },
  {
   "cell_type": "markdown",
   "id": "60dc6554",
   "metadata": {},
   "source": [
    "4. What are the two most common supervised tasks?"
   ]
  },
  {
   "cell_type": "markdown",
   "id": "8d17c01f",
   "metadata": {},
   "source": [
    "// Supervised learning\n",
    "a. Classification - e.g image recognition, spam mails, handwriting.\n",
    "b. Regression - e.g stock market price prediction, covid hotspot prediction, weather prediction, betting prediction etc"
   ]
  },
  {
   "cell_type": "markdown",
   "id": "5539abfc",
   "metadata": {},
   "source": [
    "5. Can you name four common unsupervised tasks?\n"
   ]
  },
  {
   "cell_type": "raw",
   "id": "ec3a7ccc",
   "metadata": {},
   "source": [
    "a. Customer segmentation - Understanding different customer groups to build marketing/ business strategy\n",
    "b. Clustering - e.g Genetics, insurance claims, credit scoring, recommendation and adverts etc.\n",
    "c. Farm Yield from a land\n",
    "d. Anomaly detection - e.g fraud detection, predictive maintainance etc.\n",
    "e. Association rule learning - e.g "
   ]
  },
  {
   "cell_type": "markdown",
   "id": "817897f5",
   "metadata": {},
   "source": [
    "6. What type of Machine Learning algorithm would you use to allow a robot to walk in various unknown terrains?\n"
   ]
  },
  {
   "cell_type": "raw",
   "id": "0f397a9b",
   "metadata": {},
   "source": [
    "Reinforcement Learning"
   ]
  },
  {
   "cell_type": "markdown",
   "id": "364c2d1a",
   "metadata": {},
   "source": [
    "7. What type of algorithm would you use to segment your customers into multiple groups?\n"
   ]
  },
  {
   "cell_type": "raw",
   "id": "1384301f",
   "metadata": {},
   "source": [
    "Unsupervised"
   ]
  },
  {
   "cell_type": "markdown",
   "id": "c75494e6",
   "metadata": {},
   "source": [
    "8. Would you frame the problem of spam detection as a supervised learning problem or an unsupervised learning problem?\n"
   ]
  },
  {
   "cell_type": "raw",
   "id": "addc63a9",
   "metadata": {},
   "source": [
    "Supervised"
   ]
  },
  {
   "cell_type": "markdown",
   "id": "4afa19f6",
   "metadata": {},
   "source": [
    "9. What is an online learning system?"
   ]
  },
  {
   "cell_type": "markdown",
   "id": "4127bb27",
   "metadata": {},
   "source": [
    "Training data is split into smaller batches and used for training the model."
   ]
  },
  {
   "cell_type": "markdown",
   "id": "5bc3518e",
   "metadata": {},
   "source": [
    "10. What do model-based learning algorithms search for? What is the most common strategy they use to succeed? How do they make predictions?"
   ]
  },
  {
   "cell_type": "markdown",
   "id": "a1322e2c",
   "metadata": {},
   "source": [
    "Model-based learning algorithms search for optimal values for model's parameters (theta).\n"
   ]
  },
  {
   "cell_type": "markdown",
   "id": "77d47593",
   "metadata": {},
   "source": [
    "11. Can you name four of the main challenges in Machine Learning?"
   ]
  },
  {
   "cell_type": "markdown",
   "id": "c6b5ccc1",
   "metadata": {},
   "source": [
    "a. Insufficient data\n",
    "b. Poor quality data\n",
    "c. Non-representation in data (for supervised learning)\n",
    "d. Irrelevant features\n",
    "e. "
   ]
  },
  {
   "cell_type": "markdown",
   "id": "ec862dd6",
   "metadata": {},
   "source": [
    "12. If your model performs great on the training data but generalizes poorly to new instances, what is happening? Can you name three possible solutions?"
   ]
  },
  {
   "cell_type": "markdown",
   "id": "06b6caeb",
   "metadata": {},
   "source": []
  },
  {
   "cell_type": "markdown",
   "id": "7bfe2792",
   "metadata": {},
   "source": [
    "13. What is a test set and why would you want to use it?\n"
   ]
  },
  {
   "cell_type": "markdown",
   "id": "d2b6a21b",
   "metadata": {},
   "source": []
  },
  {
   "cell_type": "markdown",
   "id": "6a03120f",
   "metadata": {},
   "source": [
    "14. What is the purpose of a validation set?"
   ]
  },
  {
   "cell_type": "markdown",
   "id": "46e4abd7",
   "metadata": {},
   "source": []
  },
  {
   "cell_type": "markdown",
   "id": "6204d617",
   "metadata": {},
   "source": [
    "15. What is cross-validation and why would you prefer it to a validation set?"
   ]
  },
  {
   "cell_type": "markdown",
   "id": "19e3c53d",
   "metadata": {},
   "source": []
  },
  {
   "cell_type": "markdown",
   "id": "08475578",
   "metadata": {},
   "source": [
    "Linear Regression\n",
    "--\n",
    "This exercise is borrowed from the book Hands-On Machine Learning with Scikit-Learn, Keras & TensorFlow (by A Géron): Chapter 1 – The Machine Learning landscape.\n",
    "\n",
    "In this exercise we will explore if money makes people happy. We will be using Better Life Index data and stats about gross domestic product (GDP) per capita from IMF's website."
   ]
  },
  {
   "cell_type": "markdown",
   "id": "6625f043",
   "metadata": {},
   "source": [
    "Setup your exercise\n",
    "--\n",
    "This function merges the OECD's life satisfaction data and the IMF's GDP per capita data."
   ]
  },
  {
   "cell_type": "code",
   "execution_count": 2,
   "id": "c382e141",
   "metadata": {},
   "outputs": [],
   "source": [
    "def prepare_country_stats(oecd_bli, gdp_per_capita):\n",
    "    oecd_bli = oecd_bli[oecd_bli[\"INEQUALITY\"]==\"TOT\"]\n",
    "    oecd_bli = oecd_bli.pivot(index=\"Country\", columns=\"Indicator\", values=\"Value\")\n",
    "    \n",
    "    gdp_per_capita.rename(columns={\"2015\": \"GDP per capita\"}, inplace=True)\n",
    "    gdp_per_capita.set_index(\"Country\", inplace=True)\n",
    "    \n",
    "    full_country_stats = pd.merge(left=oecd_bli, right=gdp_per_capita,\n",
    "                                  left_index=True, right_index=True)\n",
    "    full_country_stats.sort_values(by=\"GDP per capita\", inplace=True)\n",
    "    \n",
    "    remove_indices = [0, 1, 6, 8, 33, 34, 35]\n",
    "    keep_indices = list(set(range(36)) - set(remove_indices))\n",
    "    return full_country_stats[[\"GDP per capita\", 'Life satisfaction']].iloc[keep_indices]"
   ]
  },
  {
   "cell_type": "markdown",
   "id": "e51fd5bc",
   "metadata": {},
   "source": [
    "The code in the book expects the data files to be located in the current directory. I just tweaked it here to fetch the files in datasets/lifesat."
   ]
  },
  {
   "cell_type": "code",
   "execution_count": 3,
   "id": "4e2d5d47",
   "metadata": {},
   "outputs": [],
   "source": [
    "import os\n",
    "datapath = os.path.join(\"datasets\", \"lifesat\", \"\")"
   ]
  },
  {
   "cell_type": "code",
   "execution_count": 4,
   "id": "9b95590a",
   "metadata": {},
   "outputs": [],
   "source": [
    "# To plot pretty figures directly within Jupyter\n",
    "%matplotlib inline\n",
    "import matplotlib as mpl\n",
    "mpl.rc('axes', labelsize=14)\n",
    "mpl.rc('xtick', labelsize=12)\n",
    "mpl.rc('ytick', labelsize=12)"
   ]
  },
  {
   "cell_type": "markdown",
   "id": "190cd87a",
   "metadata": {},
   "source": [
    "For simplicity we will just use data from the book's repo as suggested. The data is from 2015. You can also replace this by downloading new data, uploading that to your Jupiter notebook and loading it from your file. You will need to update years in \n",
    "prepare_country_stats\n",
    " function \n",
    "gdp_per_capita.rename(columns={\"2015\": \"GDP per capita\"}, inplace=True)\n",
    " as well."
   ]
  },
  {
   "cell_type": "code",
   "execution_count": 10,
   "id": "91708fc0",
   "metadata": {},
   "outputs": [
    {
     "name": "stdout",
     "output_type": "stream",
     "text": [
      "Downloading oecd_bli_2015.csv\n",
      "Downloading gdp_per_capita.csv\n"
     ]
    }
   ],
   "source": [
    "# Download the data\n",
    "import urllib.request\n",
    "DOWNLOAD_ROOT = \"https://raw.githubusercontent.com/ageron/handson-ml2/master/\"\n",
    "os.makedirs(datapath, exist_ok=True)\n",
    "for filename in (\"oecd_bli_2015.csv\", \"gdp_per_capita.csv\"):\n",
    "    print(\"Downloading\", filename)\n",
    "    url = DOWNLOAD_ROOT + \"datasets/lifesat/\" + filename\n",
    "    urllib.request.urlretrieve(url, datapath + filename)"
   ]
  },
  {
   "cell_type": "code",
   "execution_count": 11,
   "id": "770a8b1d",
   "metadata": {},
   "outputs": [],
   "source": [
    "import matplotlib.pyplot as plt\n",
    "import numpy as np\n",
    "import pandas as pd\n",
    "import sklearn.linear_model\n",
    " \n",
    "# Load the data\n",
    "oecd_bli = pd.read_csv(datapath + \"oecd_bli_2015.csv\", thousands=',')\n",
    "gdp_per_capita = pd.read_csv(datapath + \"gdp_per_capita.csv\",thousands=',',delimiter='\\t',\n",
    "                             encoding='latin1', na_values=\"n/a\")\n",
    " \n",
    "# Prepare the data\n",
    "country_stats = prepare_country_stats(oecd_bli, gdp_per_capita)\n",
    "X = np.c_[country_stats[\"GDP per capita\"]]\n",
    "y = np.c_[country_stats[\"Life satisfaction\"]]"
   ]
  },
  {
   "cell_type": "code",
   "execution_count": 40,
   "id": "fb2bd1af",
   "metadata": {},
   "outputs": [
    {
     "data": {
      "text/plain": [
       "Index(['Subject Descriptor', 'Units', 'Scale', 'Country/Series-specific Notes',\n",
       "       'GDP per capita', 'Estimates Start After'],\n",
       "      dtype='object')"
      ]
     },
     "execution_count": 40,
     "metadata": {},
     "output_type": "execute_result"
    }
   ],
   "source": [
    "gdp_per_capita.columns"
   ]
  },
  {
   "cell_type": "code",
   "execution_count": 12,
   "id": "3e4ea867",
   "metadata": {},
   "outputs": [
    {
     "data": {
      "text/html": [
       "<div>\n",
       "<style scoped>\n",
       "    .dataframe tbody tr th:only-of-type {\n",
       "        vertical-align: middle;\n",
       "    }\n",
       "\n",
       "    .dataframe tbody tr th {\n",
       "        vertical-align: top;\n",
       "    }\n",
       "\n",
       "    .dataframe thead th {\n",
       "        text-align: right;\n",
       "    }\n",
       "</style>\n",
       "<table border=\"1\" class=\"dataframe\">\n",
       "  <thead>\n",
       "    <tr style=\"text-align: right;\">\n",
       "      <th></th>\n",
       "      <th>Subject Descriptor</th>\n",
       "      <th>Units</th>\n",
       "      <th>Scale</th>\n",
       "      <th>Country/Series-specific Notes</th>\n",
       "      <th>GDP per capita</th>\n",
       "      <th>Estimates Start After</th>\n",
       "    </tr>\n",
       "    <tr>\n",
       "      <th>Country</th>\n",
       "      <th></th>\n",
       "      <th></th>\n",
       "      <th></th>\n",
       "      <th></th>\n",
       "      <th></th>\n",
       "      <th></th>\n",
       "    </tr>\n",
       "  </thead>\n",
       "  <tbody>\n",
       "    <tr>\n",
       "      <th>Afghanistan</th>\n",
       "      <td>Gross domestic product per capita, current prices</td>\n",
       "      <td>U.S. dollars</td>\n",
       "      <td>Units</td>\n",
       "      <td>See notes for:  Gross domestic product, curren...</td>\n",
       "      <td>599.994</td>\n",
       "      <td>2013.0</td>\n",
       "    </tr>\n",
       "    <tr>\n",
       "      <th>Albania</th>\n",
       "      <td>Gross domestic product per capita, current prices</td>\n",
       "      <td>U.S. dollars</td>\n",
       "      <td>Units</td>\n",
       "      <td>See notes for:  Gross domestic product, curren...</td>\n",
       "      <td>3995.383</td>\n",
       "      <td>2010.0</td>\n",
       "    </tr>\n",
       "    <tr>\n",
       "      <th>Algeria</th>\n",
       "      <td>Gross domestic product per capita, current prices</td>\n",
       "      <td>U.S. dollars</td>\n",
       "      <td>Units</td>\n",
       "      <td>See notes for:  Gross domestic product, curren...</td>\n",
       "      <td>4318.135</td>\n",
       "      <td>2014.0</td>\n",
       "    </tr>\n",
       "    <tr>\n",
       "      <th>Angola</th>\n",
       "      <td>Gross domestic product per capita, current prices</td>\n",
       "      <td>U.S. dollars</td>\n",
       "      <td>Units</td>\n",
       "      <td>See notes for:  Gross domestic product, curren...</td>\n",
       "      <td>4100.315</td>\n",
       "      <td>2014.0</td>\n",
       "    </tr>\n",
       "    <tr>\n",
       "      <th>Antigua and Barbuda</th>\n",
       "      <td>Gross domestic product per capita, current prices</td>\n",
       "      <td>U.S. dollars</td>\n",
       "      <td>Units</td>\n",
       "      <td>See notes for:  Gross domestic product, curren...</td>\n",
       "      <td>14414.302</td>\n",
       "      <td>2011.0</td>\n",
       "    </tr>\n",
       "  </tbody>\n",
       "</table>\n",
       "</div>"
      ],
      "text/plain": [
       "                                                    Subject Descriptor  \\\n",
       "Country                                                                  \n",
       "Afghanistan          Gross domestic product per capita, current prices   \n",
       "Albania              Gross domestic product per capita, current prices   \n",
       "Algeria              Gross domestic product per capita, current prices   \n",
       "Angola               Gross domestic product per capita, current prices   \n",
       "Antigua and Barbuda  Gross domestic product per capita, current prices   \n",
       "\n",
       "                            Units  Scale  \\\n",
       "Country                                    \n",
       "Afghanistan          U.S. dollars  Units   \n",
       "Albania              U.S. dollars  Units   \n",
       "Algeria              U.S. dollars  Units   \n",
       "Angola               U.S. dollars  Units   \n",
       "Antigua and Barbuda  U.S. dollars  Units   \n",
       "\n",
       "                                         Country/Series-specific Notes  \\\n",
       "Country                                                                  \n",
       "Afghanistan          See notes for:  Gross domestic product, curren...   \n",
       "Albania              See notes for:  Gross domestic product, curren...   \n",
       "Algeria              See notes for:  Gross domestic product, curren...   \n",
       "Angola               See notes for:  Gross domestic product, curren...   \n",
       "Antigua and Barbuda  See notes for:  Gross domestic product, curren...   \n",
       "\n",
       "                     GDP per capita  Estimates Start After  \n",
       "Country                                                     \n",
       "Afghanistan                 599.994                 2013.0  \n",
       "Albania                    3995.383                 2010.0  \n",
       "Algeria                    4318.135                 2014.0  \n",
       "Angola                     4100.315                 2014.0  \n",
       "Antigua and Barbuda       14414.302                 2011.0  "
      ]
     },
     "execution_count": 12,
     "metadata": {},
     "output_type": "execute_result"
    }
   ],
   "source": [
    "gdp_per_capita.head()"
   ]
  },
  {
   "cell_type": "code",
   "execution_count": 41,
   "id": "b25203f3",
   "metadata": {},
   "outputs": [
    {
     "data": {
      "text/plain": [
       "Index(['LOCATION', 'Country', 'INDICATOR', 'Indicator', 'MEASURE', 'Measure',\n",
       "       'INEQUALITY', 'Inequality', 'Unit Code', 'Unit', 'PowerCode Code',\n",
       "       'PowerCode', 'Reference Period Code', 'Reference Period', 'Value',\n",
       "       'Flag Codes', 'Flags'],\n",
       "      dtype='object')"
      ]
     },
     "execution_count": 41,
     "metadata": {},
     "output_type": "execute_result"
    }
   ],
   "source": [
    "oecd_bli.columns"
   ]
  },
  {
   "cell_type": "code",
   "execution_count": 42,
   "id": "010b4cd4",
   "metadata": {},
   "outputs": [
    {
     "data": {
      "text/html": [
       "<div>\n",
       "<style scoped>\n",
       "    .dataframe tbody tr th:only-of-type {\n",
       "        vertical-align: middle;\n",
       "    }\n",
       "\n",
       "    .dataframe tbody tr th {\n",
       "        vertical-align: top;\n",
       "    }\n",
       "\n",
       "    .dataframe thead th {\n",
       "        text-align: right;\n",
       "    }\n",
       "</style>\n",
       "<table border=\"1\" class=\"dataframe\">\n",
       "  <thead>\n",
       "    <tr style=\"text-align: right;\">\n",
       "      <th></th>\n",
       "      <th>LOCATION</th>\n",
       "      <th>Country</th>\n",
       "      <th>INDICATOR</th>\n",
       "      <th>Indicator</th>\n",
       "      <th>MEASURE</th>\n",
       "      <th>Measure</th>\n",
       "      <th>INEQUALITY</th>\n",
       "      <th>Inequality</th>\n",
       "      <th>Unit Code</th>\n",
       "      <th>Unit</th>\n",
       "      <th>PowerCode Code</th>\n",
       "      <th>PowerCode</th>\n",
       "      <th>Reference Period Code</th>\n",
       "      <th>Reference Period</th>\n",
       "      <th>Value</th>\n",
       "      <th>Flag Codes</th>\n",
       "      <th>Flags</th>\n",
       "    </tr>\n",
       "  </thead>\n",
       "  <tbody>\n",
       "    <tr>\n",
       "      <th>0</th>\n",
       "      <td>AUS</td>\n",
       "      <td>Australia</td>\n",
       "      <td>HO_BASE</td>\n",
       "      <td>Dwellings without basic facilities</td>\n",
       "      <td>L</td>\n",
       "      <td>Value</td>\n",
       "      <td>TOT</td>\n",
       "      <td>Total</td>\n",
       "      <td>PC</td>\n",
       "      <td>Percentage</td>\n",
       "      <td>0</td>\n",
       "      <td>units</td>\n",
       "      <td>NaN</td>\n",
       "      <td>NaN</td>\n",
       "      <td>1.1</td>\n",
       "      <td>E</td>\n",
       "      <td>Estimated value</td>\n",
       "    </tr>\n",
       "    <tr>\n",
       "      <th>1</th>\n",
       "      <td>AUT</td>\n",
       "      <td>Austria</td>\n",
       "      <td>HO_BASE</td>\n",
       "      <td>Dwellings without basic facilities</td>\n",
       "      <td>L</td>\n",
       "      <td>Value</td>\n",
       "      <td>TOT</td>\n",
       "      <td>Total</td>\n",
       "      <td>PC</td>\n",
       "      <td>Percentage</td>\n",
       "      <td>0</td>\n",
       "      <td>units</td>\n",
       "      <td>NaN</td>\n",
       "      <td>NaN</td>\n",
       "      <td>1.0</td>\n",
       "      <td>NaN</td>\n",
       "      <td>NaN</td>\n",
       "    </tr>\n",
       "    <tr>\n",
       "      <th>2</th>\n",
       "      <td>BEL</td>\n",
       "      <td>Belgium</td>\n",
       "      <td>HO_BASE</td>\n",
       "      <td>Dwellings without basic facilities</td>\n",
       "      <td>L</td>\n",
       "      <td>Value</td>\n",
       "      <td>TOT</td>\n",
       "      <td>Total</td>\n",
       "      <td>PC</td>\n",
       "      <td>Percentage</td>\n",
       "      <td>0</td>\n",
       "      <td>units</td>\n",
       "      <td>NaN</td>\n",
       "      <td>NaN</td>\n",
       "      <td>2.0</td>\n",
       "      <td>NaN</td>\n",
       "      <td>NaN</td>\n",
       "    </tr>\n",
       "    <tr>\n",
       "      <th>3</th>\n",
       "      <td>CAN</td>\n",
       "      <td>Canada</td>\n",
       "      <td>HO_BASE</td>\n",
       "      <td>Dwellings without basic facilities</td>\n",
       "      <td>L</td>\n",
       "      <td>Value</td>\n",
       "      <td>TOT</td>\n",
       "      <td>Total</td>\n",
       "      <td>PC</td>\n",
       "      <td>Percentage</td>\n",
       "      <td>0</td>\n",
       "      <td>units</td>\n",
       "      <td>NaN</td>\n",
       "      <td>NaN</td>\n",
       "      <td>0.2</td>\n",
       "      <td>NaN</td>\n",
       "      <td>NaN</td>\n",
       "    </tr>\n",
       "    <tr>\n",
       "      <th>4</th>\n",
       "      <td>CZE</td>\n",
       "      <td>Czech Republic</td>\n",
       "      <td>HO_BASE</td>\n",
       "      <td>Dwellings without basic facilities</td>\n",
       "      <td>L</td>\n",
       "      <td>Value</td>\n",
       "      <td>TOT</td>\n",
       "      <td>Total</td>\n",
       "      <td>PC</td>\n",
       "      <td>Percentage</td>\n",
       "      <td>0</td>\n",
       "      <td>units</td>\n",
       "      <td>NaN</td>\n",
       "      <td>NaN</td>\n",
       "      <td>0.9</td>\n",
       "      <td>NaN</td>\n",
       "      <td>NaN</td>\n",
       "    </tr>\n",
       "  </tbody>\n",
       "</table>\n",
       "</div>"
      ],
      "text/plain": [
       "  LOCATION         Country INDICATOR                           Indicator  \\\n",
       "0      AUS       Australia   HO_BASE  Dwellings without basic facilities   \n",
       "1      AUT         Austria   HO_BASE  Dwellings without basic facilities   \n",
       "2      BEL         Belgium   HO_BASE  Dwellings without basic facilities   \n",
       "3      CAN          Canada   HO_BASE  Dwellings without basic facilities   \n",
       "4      CZE  Czech Republic   HO_BASE  Dwellings without basic facilities   \n",
       "\n",
       "  MEASURE Measure INEQUALITY Inequality Unit Code        Unit  PowerCode Code  \\\n",
       "0       L   Value        TOT      Total        PC  Percentage               0   \n",
       "1       L   Value        TOT      Total        PC  Percentage               0   \n",
       "2       L   Value        TOT      Total        PC  Percentage               0   \n",
       "3       L   Value        TOT      Total        PC  Percentage               0   \n",
       "4       L   Value        TOT      Total        PC  Percentage               0   \n",
       "\n",
       "  PowerCode  Reference Period Code  Reference Period  Value Flag Codes  \\\n",
       "0     units                    NaN               NaN    1.1          E   \n",
       "1     units                    NaN               NaN    1.0        NaN   \n",
       "2     units                    NaN               NaN    2.0        NaN   \n",
       "3     units                    NaN               NaN    0.2        NaN   \n",
       "4     units                    NaN               NaN    0.9        NaN   \n",
       "\n",
       "             Flags  \n",
       "0  Estimated value  \n",
       "1              NaN  \n",
       "2              NaN  \n",
       "3              NaN  \n",
       "4              NaN  "
      ]
     },
     "execution_count": 42,
     "metadata": {},
     "output_type": "execute_result"
    }
   ],
   "source": [
    "oecd_bli.head()"
   ]
  },
  {
   "cell_type": "markdown",
   "id": "74ccf397",
   "metadata": {},
   "source": [
    "We can generate a graph. It might already suggets some insights."
   ]
  },
  {
   "cell_type": "code",
   "execution_count": 7,
   "id": "a2f8e7d3",
   "metadata": {},
   "outputs": [
    {
     "data": {
      "image/png": "[encoded data removed]",
      "text/plain": [
       "<Figure size 432x288 with 1 Axes>"
      ]
     },
     "metadata": {
      "needs_background": "light"
     },
     "output_type": "display_data"
    }
   ],
   "source": [
    "# Visualize the data\n",
    "country_stats.plot(kind='scatter', x=\"GDP per capita\", y='Life satisfaction')\n",
    "plt.show()"
   ]
  },
  {
   "cell_type": "markdown",
   "id": "da382d2b",
   "metadata": {},
   "source": [
    "We will use a Linear Regression to train a model. After training the model, let's predict Life Satisfaction for Ghana. According to IMF, in 2015, Ghana's GDP per capita was 1,784 USD (in 2020 it is 2,226 USD)."
   ]
  },
  {
   "cell_type": "code",
   "execution_count": 32,
   "id": "58294181",
   "metadata": {},
   "outputs": [
    {
     "name": "stdout",
     "output_type": "stream",
     "text": [
      "[[4.96238378]]\n"
     ]
    }
   ],
   "source": [
    "## Select a linear model\n",
    "model = sklearn.linear_model.LinearRegression()\n",
    " \n",
    "# Train the model\n",
    "model.fit(X, y)\n",
    " \n",
    "# Make a prediction for Ghana\n",
    "X_new = [[2226]]  # Ghana' GDP per capita\n",
    "print(model.predict(X_new))"
   ]
  },
  {
   "cell_type": "markdown",
   "id": "2420242c",
   "metadata": {},
   "source": [
    "k-Nearest Regression\n",
    "--\n",
    "Previously we a used model-based algorithm - Linear Regression. Now let's try using a instance-based algorithm - k-Nearest Neighbours with 3 neighbours instead."
   ]
  },
  {
   "cell_type": "code",
   "execution_count": 37,
   "id": "8c34980e",
   "metadata": {},
   "outputs": [
    {
     "name": "stdout",
     "output_type": "stream",
     "text": [
      "[[5.5]]\n"
     ]
    }
   ],
   "source": [
    "import sklearn.neighbors\n",
    "model = sklearn.neighbors.KNeighborsRegressor(n_neighbors=3)\n",
    "\n",
    "# Train the model\n",
    "model.fit(X, y)\n",
    " \n",
    "# Make a prediction for Ghana\n",
    "X_new = [[2226]]  # Ghana' GDP per capita\n",
    "print(model.predict(X_new))\n"
   ]
  },
  {
   "cell_type": "markdown",
   "id": "6aa66761",
   "metadata": {},
   "source": [
    "### Polynomial Regression\n",
    "Predicting life satisfaction based only on GDP per capita does not sound like something that could result in accurate predictions."
   ]
  },
  {
   "cell_type": "code",
   "execution_count": null,
   "id": "5b7dd0cb",
   "metadata": {},
   "outputs": [],
   "source": []
  }
 ],
 "metadata": {
  "kernelspec": {
   "display_name": "Python 3",
   "language": "python",
   "name": "python3"
  },
  "language_info": {
   "codemirror_mode": {
    "name": "ipython",
    "version": 3
   },
   "file_extension": ".py",
   "mimetype": "text/x-python",
   "name": "python",
   "nbconvert_exporter": "python",
   "pygments_lexer": "ipython3",
   "version": "3.8.8"
  }
 },
 "nbformat": 4,
 "nbformat_minor": 5
}
